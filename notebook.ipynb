{
  "metadata": {
    "kernelspec": {
      "display_name": "Python 3",
      "language": "python",
      "name": "python3"
    },
    "language_info": {
      "codemirror_mode": {
        "name": "ipython",
        "version": 3
      },
      "file_extension": ".py",
      "mimetype": "text/x-python",
      "name": "python",
      "nbconvert_exporter": "python",
      "pygments_lexer": "ipython3",
      "version": "3.6.0"
    }
  },
  "nbformat": 4,
  "nbformat_minor": 0,
  "cells": [
    {
      "cell_type": "markdown",
      "source": "Imports",
      "metadata": {}
    },
    {
      "cell_type": "code",
      "source": "import pandas as pd\nimport numpy as np\nfrom sklearn import svm\nfrom sklearn.model_selection import train_test_split\nfrom sklearn.decomposition import PCA\nimport time",
      "execution_count": null,
      "outputs": [],
      "metadata": {}
    },
    {
      "cell_type": "code",
      "source": "train = pd.read_csv('../input/train.csv')\ntest = pd.read_csv('../input/test.csv')\n\ntrain_image = train.ix[:,1:]\ntrain_label = train.ix[:,0]",
      "execution_count": null,
      "outputs": [],
      "metadata": {}
    },
    {
      "cell_type": "code",
      "source": "train_image = train_image.values / 255.0\ntest_image = test.values / 255.0",
      "execution_count": null,
      "outputs": [],
      "metadata": {}
    },
    {
      "cell_type": "code",
      "source": "train_label = train_label.values",
      "execution_count": null,
      "outputs": [],
      "metadata": {}
    },
    {
      "cell_type": "code",
      "source": "print('the shape of train_image: {}, train_label: {}'.format(train_image.shape, train_label.shape))\nprint('the shape of test_image: {}'.format(test_image.shape))",
      "execution_count": null,
      "outputs": [],
      "metadata": {}
    },
    {
      "cell_type": "code",
      "source": "X_train, X_val, y_train, y_val = train_test_split(train_image,train_label, train_size = 0.8,random_state = 0)",
      "execution_count": null,
      "outputs": [],
      "metadata": {}
    },
    {
      "cell_type": "code",
      "source": "print(X_train.shape)\nprint(X_val.shape)",
      "execution_count": null,
      "outputs": [],
      "metadata": {}
    },
    {
      "cell_type": "code",
      "source": "def n_component_analysis(n, X_train, y_train, X_val, y_val):\n    start = time.time()\n    pca = PCA(n_components=n)\n    print(\"PCA begin with n_components: {}\".format(n));\n    pca.fit(X_train)\n   \n    X_train_pca = pca.transform(X_train)\n    X_val_pca = pca.transform(X_val)\n \n    print('SVC begin')\n    clf1 = svm.SVC()\n    clf1.fit(X_train_pca, y_train)\n   \n    accuracy = clf1.score(X_val_pca, y_val)\n    end = time.time()\n    print(\"accuracy: {}, time elaps:{}\".format(accuracy, int(end-start)))\n    return accuracy",
      "execution_count": null,
      "outputs": [],
      "metadata": {}
    },
    {
      "cell_type": "code",
      "source": "n_s = np.linspace(0.70, 0.85, num=15)\naccuracy = []\nfor n in n_s:\n    tmp = n_component_analysis(n, X_train, y_train, X_val, y_val)\n    accuracy.append(tmp)",
      "execution_count": null,
      "outputs": [],
      "metadata": {}
    },
    {
      "cell_type": "code",
      "source": "import matplotlib.pyplot as plt\n%matplotlib inline\nplt.plot(n_s, np.array(accuracy), 'b-')",
      "execution_count": null,
      "outputs": [],
      "metadata": {}
    },
    {
      "cell_type": "code",
      "source": "pca = PCA(n_components=0.75)\npca.fit(X_train)",
      "execution_count": null,
      "outputs": [],
      "metadata": {}
    },
    {
      "cell_type": "code",
      "source": "pca.n_components_",
      "execution_count": null,
      "outputs": [],
      "metadata": {}
    },
    {
      "cell_type": "code",
      "source": "pca.explained_variance_ratio_",
      "execution_count": null,
      "outputs": [],
      "metadata": {}
    },
    {
      "cell_type": "code",
      "source": "X_train_pca = pca.transform(X_train)\nX_val_pca = pca.transform(X_val)",
      "execution_count": null,
      "outputs": [],
      "metadata": {}
    },
    {
      "cell_type": "code",
      "source": "print(X_train_pca.shape)\nprint(X_val_pca.shape)",
      "execution_count": null,
      "outputs": [],
      "metadata": {}
    },
    {
      "cell_type": "code",
      "source": "clf1 = svm.SVC()\nclf1.fit(X_train_pca, y_train)\nclf1.score(X_val_pca, y_val)",
      "execution_count": null,
      "outputs": [],
      "metadata": {}
    },
    {
      "cell_type": "code",
      "source": "",
      "execution_count": null,
      "outputs": [],
      "metadata": {}
    }
  ]
}